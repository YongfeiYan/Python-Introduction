{
 "cells": [
  {
   "cell_type": "markdown",
   "metadata": {},
   "source": [
    "## 类\n"
   ]
  },
  {
   "cell_type": "code",
   "execution_count": 17,
   "metadata": {},
   "outputs": [
    {
     "name": "stdout",
     "output_type": "stream",
     "text": [
      "a a0 a0\n",
      "a a1 a1\n",
      "1\n"
     ]
    }
   ],
   "source": [
    "\n",
    "class A:  # 类名 A\n",
    "    N = -1  # 类的公共字段\n",
    "    \n",
    "    def __init__(self, a):  # 构造函数, 第一个self参数是语法要求, 类似于C++里面的this指针, 用于引用自身\n",
    "        self.a = a  # 直接赋值, 构造这个实例的字段\n",
    "        A.N += 1\n",
    "        self.n = A.N  # 构造这个实例的字段\n",
    "        \n",
    "    @staticmethod  # 指定为类的静态方法, 函数参数不能带self\n",
    "    def class_name():\n",
    "        return 'a'\n",
    "    \n",
    "    def child_name(self):  # 定义实例的方法, 第一个self参数是语法要求, 用于引用自身\n",
    "        return 'a' + str(self.n)\n",
    "\n",
    "\n",
    "a0 = A('a0')\n",
    "a1 = A('a1')\n",
    "print(a0.class_name(), a0.child_name(), a0.a)\n",
    "print(a1.class_name(), a1.child_name(), a1.a)\n",
    "\n",
    "# 在类的定义外, 为类的实例添加字段\n",
    "a0.b = 1  \n",
    "print(a0.b)"
   ]
  },
  {
   "cell_type": "code",
   "execution_count": 18,
   "metadata": {},
   "outputs": [
    {
     "name": "stdout",
     "output_type": "stream",
     "text": [
      "b b2 2 1 2\n",
      "new function.\n"
     ]
    }
   ],
   "source": [
    "class B(A):  # B继承A\n",
    "    def __init__(self, a, b):  # 参数列表\n",
    "        super().__init__(a)  # 初始化父类\n",
    "        self.b = b\n",
    "    \n",
    "    @staticmethod\n",
    "    def class_name():  # 覆盖父类的方法\n",
    "        return 'b'\n",
    "    \n",
    "    def child_name(self):  # 覆盖父类的方法\n",
    "        return 'b' + str(self.n)\n",
    "    \n",
    "    def new_func(self):  # 新增方法\n",
    "        print('new function.')\n",
    "        \n",
    "b = B(1, 2)\n",
    "print(b.class_name(), b.child_name(), b.n, b.a, b.b)\n",
    "b.new_func()"
   ]
  }
 ],
 "metadata": {
  "kernelspec": {
   "display_name": "Python 3",
   "language": "python",
   "name": "python3"
  },
  "language_info": {
   "codemirror_mode": {
    "name": "ipython",
    "version": 3
   },
   "file_extension": ".py",
   "mimetype": "text/x-python",
   "name": "python",
   "nbconvert_exporter": "python",
   "pygments_lexer": "ipython3",
   "version": "3.6.7"
  }
 },
 "nbformat": 4,
 "nbformat_minor": 2
}
