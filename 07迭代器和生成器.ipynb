{
 "cells": [
  {
   "cell_type": "markdown",
   "metadata": {},
   "source": [
    "## 迭代器\n",
    "迭代器表示一个数据流, 可以不断用`next()`函数从中获取数据, 直到抛出`StopIteration`"
   ]
  },
  {
   "cell_type": "code",
   "execution_count": 28,
   "metadata": {},
   "outputs": [
    {
     "name": "stdout",
     "output_type": "stream",
     "text": [
      "<class 'list_iterator'>\n",
      "1\n",
      "2\n"
     ]
    },
    {
     "ename": "StopIteration",
     "evalue": "",
     "output_type": "error",
     "traceback": [
      "\u001b[0;31m---------------------------------------------------------------------------\u001b[0m",
      "\u001b[0;31mStopIteration\u001b[0m                             Traceback (most recent call last)",
      "\u001b[0;32m<ipython-input-28-60021105f4ec>\u001b[0m in \u001b[0;36m<module>\u001b[0;34m()\u001b[0m\n\u001b[1;32m      6\u001b[0m \u001b[0mprint\u001b[0m\u001b[0;34m(\u001b[0m\u001b[0mnext\u001b[0m\u001b[0;34m(\u001b[0m\u001b[0mit\u001b[0m\u001b[0;34m)\u001b[0m\u001b[0;34m)\u001b[0m\u001b[0;34m\u001b[0m\u001b[0;34m\u001b[0m\u001b[0m\n\u001b[1;32m      7\u001b[0m \u001b[0mprint\u001b[0m\u001b[0;34m(\u001b[0m\u001b[0mnext\u001b[0m\u001b[0;34m(\u001b[0m\u001b[0mit\u001b[0m\u001b[0;34m)\u001b[0m\u001b[0;34m)\u001b[0m\u001b[0;34m\u001b[0m\u001b[0;34m\u001b[0m\u001b[0m\n\u001b[0;32m----> 8\u001b[0;31m \u001b[0mprint\u001b[0m\u001b[0;34m(\u001b[0m\u001b[0mnext\u001b[0m\u001b[0;34m(\u001b[0m\u001b[0mit\u001b[0m\u001b[0;34m)\u001b[0m\u001b[0;34m)\u001b[0m\u001b[0;34m\u001b[0m\u001b[0;34m\u001b[0m\u001b[0m\n\u001b[0m",
      "\u001b[0;31mStopIteration\u001b[0m: "
     ]
    }
   ],
   "source": [
    "a = [1, 2]\n",
    "# 获取迭代器对象, str, list, tuple, dict, set等都可以转化为迭代器\n",
    "it = iter(a)  \n",
    "print(type(it))\n",
    "\n",
    "print(next(it))\n",
    "print(next(it))\n",
    "print(next(it))"
   ]
  },
  {
   "cell_type": "code",
   "execution_count": 23,
   "metadata": {},
   "outputs": [
    {
     "name": "stdout",
     "output_type": "stream",
     "text": [
      "a\n",
      "b\n"
     ]
    }
   ],
   "source": [
    "a = {'a': 1, 'b': 2}  # str, list, tuple, dict 都可以\n",
    "it = iter(a)\n",
    "for k in it:  # for ... in ... 使用的是迭代器\n",
    "    print(k)"
   ]
  },
  {
   "cell_type": "code",
   "execution_count": 24,
   "metadata": {},
   "outputs": [
    {
     "name": "stdout",
     "output_type": "stream",
     "text": [
      "__iter__ called\n",
      "__iter__ called\n",
      "1\n",
      "2\n"
     ]
    }
   ],
   "source": [
    "class IT:\n",
    "    def __init__(self):\n",
    "        self.values = [1, 2]\n",
    "    \n",
    "    def __iter__(self):\n",
    "        print('__iter__ called')\n",
    "        return iter(self.values)\n",
    "\n",
    "t = IT()\n",
    "it = iter(t)  # iter()函数调用对象的__iter__函数\n",
    "for i in t:   # for ... in ... 先得到生成器再进行迭代\n",
    "    print(i)"
   ]
  },
  {
   "cell_type": "code",
   "execution_count": 25,
   "metadata": {},
   "outputs": [
    {
     "name": "stdout",
     "output_type": "stream",
     "text": [
      "a [1, 2, 3, 4, 5, 6, 7, 8]\n",
      "b [2, 4, 6, 8, 10, 12, 14, 16]\n",
      "c [4, 5, 6, 7, 8]\n",
      "d (1, 2, 3, 4, 5, 6, 7, 8)\n",
      "e {1: 2, 2: 4, 3: 6, 4: 8, 5: 10, 6: 12, 7: 14, 8: 16}\n"
     ]
    }
   ],
   "source": [
    "# 利用迭代器方便构造list, tuple, dict等\n",
    "a = [1, 2, 3, 4, 5, 6, 7, 8]\n",
    "b = [t * 2 for t in a]\n",
    "c = [t for t in a if t > 3]  # 将某些满足条件的元素取出\n",
    "d = tuple(t for t in a)\n",
    "e = {t: t*2 for t in a}  # 构造dict\n",
    "print('a', a)\n",
    "print('b', b)\n",
    "print('c', c)\n",
    "print('d', d)\n",
    "print('e', e)"
   ]
  },
  {
   "cell_type": "markdown",
   "metadata": {},
   "source": [
    "## 生成器\n",
    "生成器是迭代器的一种, 调用next()才产生数据, 而不是全部都计算出来, 如果元素较多或数据较大, 可以借此节省内存等."
   ]
  },
  {
   "cell_type": "code",
   "execution_count": 26,
   "metadata": {},
   "outputs": [
    {
     "name": "stdout",
     "output_type": "stream",
     "text": [
      "init\n",
      "init\n",
      "init\n",
      "[<__main__.T object at 0x109a24588>, <__main__.T object at 0x109a24048>, <__main__.T object at 0x109a24dd8>]\n",
      "--------------------\n",
      "<generator object <genexpr> at 0x1099eb6d0>\n",
      "init\n",
      "0\n",
      "init\n",
      "1\n",
      "init\n",
      "2\n"
     ]
    }
   ],
   "source": [
    "class T:\n",
    "    def __init__(self):\n",
    "        print('init')\n",
    "\n",
    "t = [T() for t in [1, 2, 3]]\n",
    "print(t)\n",
    "print('--------------------')\n",
    "g = (T() for t in [1, 2, 3])  # 通过() for in 构造生成器\n",
    "print(g)\n",
    "for i, _ in enumerate(g):\n",
    "    print(i)"
   ]
  },
  {
   "cell_type": "code",
   "execution_count": 32,
   "metadata": {},
   "outputs": [
    {
     "name": "stdout",
     "output_type": "stream",
     "text": [
      "<generator object foo at 0x1099eb468>\n",
      "before\n",
      "0\n",
      "----\n",
      "after\n",
      "before\n",
      "1\n",
      "----\n",
      "after\n",
      "before\n",
      "2\n",
      "----\n",
      "after\n"
     ]
    }
   ],
   "source": [
    "# 通过函数使用yield语句构造生成器, 函数结束或者遇到return则结束迭代\n",
    "def foo():\n",
    "    for i in range(10):\n",
    "        print('before')\n",
    "        yield i\n",
    "        print('after')\n",
    "        if i > 1:\n",
    "            return\n",
    "t = foo()\n",
    "print(t)\n",
    "for i in foo():\n",
    "    print(i)\n",
    "    print('----')"
   ]
  },
  {
   "cell_type": "code",
   "execution_count": null,
   "metadata": {
    "collapsed": true
   },
   "outputs": [],
   "source": []
  }
 ],
 "metadata": {
  "kernelspec": {
   "display_name": "Python 3",
   "language": "python",
   "name": "python3"
  },
  "language_info": {
   "codemirror_mode": {
    "name": "ipython",
    "version": 3
   },
   "file_extension": ".py",
   "mimetype": "text/x-python",
   "name": "python",
   "nbconvert_exporter": "python",
   "pygments_lexer": "ipython3",
   "version": "3.6.7"
  }
 },
 "nbformat": 4,
 "nbformat_minor": 2
}
