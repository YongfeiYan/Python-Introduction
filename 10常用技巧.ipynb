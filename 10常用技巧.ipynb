{
 "cells": [
  {
   "cell_type": "markdown",
   "metadata": {},
   "source": [
    "## 常用技巧"
   ]
  },
  {
   "cell_type": "code",
   "execution_count": 28,
   "metadata": {},
   "outputs": [
    {
     "name": "stdout",
     "output_type": "stream",
     "text": [
      "1 2\n",
      "2 1\n",
      "0 1 2\n",
      "1 2 3\n",
      "1 2\n",
      "3 4\n",
      "1 2 3 4\n",
      "1 2 [3, 4]\n"
     ]
    }
   ],
   "source": [
    "# 1. 多个变量赋值\n",
    "x, y = 1, 2\n",
    "print(x, y)\n",
    "y, x = x, y \n",
    "print(x, y)\n",
    "x, y, z = range(3)\n",
    "print(x, y, z)\n",
    "(x, y), z = (1, 2), 3\n",
    "print(x, y, z)\n",
    "for x, y in [(1, 2), (3, 4)]: print(x, y)\n",
    "    \n",
    "def x(): \n",
    "    return 1, 2, 3, 4\n",
    "a, b, c, d = x() \n",
    "print(a, b, c, d) \n",
    "\n",
    "a = [1, 2, 3, 4]\n",
    "i, j, *k = a\n",
    "print(i, j, k)"
   ]
  },
  {
   "cell_type": "code",
   "execution_count": 4,
   "metadata": {},
   "outputs": [
    {
     "name": "stdout",
     "output_type": "stream",
     "text": [
      "[0, 1, 2, 3, 4, 5, 6, 7, 8, 9]\n",
      "[9, 8, 7, 6, 5, 4, 3, 2, 1, 0]\n",
      "[6, 4]\n",
      "7654321\n"
     ]
    }
   ],
   "source": [
    "# 2. 反转数组, 反向索引\n",
    "a = list(range(10))\n",
    "print(a)\n",
    "print(a[::-1])\n",
    "print(a[6:2:-2])\n",
    "s = '1234567'\n",
    "print(s[::-1])"
   ]
  },
  {
   "cell_type": "code",
   "execution_count": 10,
   "metadata": {},
   "outputs": [
    {
     "name": "stdout",
     "output_type": "stream",
     "text": [
      "{'a': {'b': [{'c': 1}]}, 1: 1}\n",
      "{1: 1, 'a': {'b': [{'c': 1}]}}\n"
     ]
    }
   ],
   "source": [
    "# 3. print函数\n",
    "\"\"\"\n",
    "print(value, ..., sep=' ', end='\\n', file=sys.stdout, flush=False)\n",
    "\"\"\"\n",
    "a = range(10)\n",
    "with open('./tmp-file', 'w') as f:\n",
    "    print(*a, sep='\\t', file=f)  # 传入多个参数, 设置分隔符, 写入文件"
   ]
  },
  {
   "cell_type": "code",
   "execution_count": 12,
   "metadata": {},
   "outputs": [
    {
     "name": "stdout",
     "output_type": "stream",
     "text": [
      "1 - 2 - 3\n"
     ]
    }
   ],
   "source": [
    "# 4. 拼接字符串\n",
    "a = ['1', '2', '3']\n",
    "print(' - '.join(a))"
   ]
  },
  {
   "cell_type": "code",
   "execution_count": 15,
   "metadata": {},
   "outputs": [
    {
     "name": "stdout",
     "output_type": "stream",
     "text": [
      "False\n",
      "True\n"
     ]
    }
   ],
   "source": [
    "# 5. 串联比较\n",
    "a = 10\n",
    "print(1 < a < 3)\n",
    "print(1 < a >= 3)"
   ]
  },
  {
   "cell_type": "code",
   "execution_count": 20,
   "metadata": {},
   "outputs": [
    {
     "name": "stdout",
     "output_type": "stream",
     "text": [
      "<module 'os' from '/Users/yyf/anaconda/lib/python3.6/os.py'>\n"
     ]
    }
   ],
   "source": [
    "# 6. 打印模块路径\n",
    "import os\n",
    "print(os)"
   ]
  },
  {
   "cell_type": "code",
   "execution_count": 25,
   "metadata": {},
   "outputs": [
    {
     "name": "stdout",
     "output_type": "stream",
     "text": [
      "[1, 4, 2, 3, 7]\n",
      "10 key(10) -10\n",
      "[7, 4, 3, 2, 1]\n",
      "1\n",
      "7\n"
     ]
    }
   ],
   "source": [
    "# 7. max, sorted, min\n",
    "a = [1, 4, 2, 3, 7]\n",
    "print(a)\n",
    "key = lambda x: -x  # 匿名函数, lambda args: expression\n",
    "print(10, 'key(10)', key(10))\n",
    "print(sorted(a, key=key))\n",
    "print(max(a, key=key))\n",
    "print(min(a, key=key))"
   ]
  },
  {
   "cell_type": "code",
   "execution_count": 26,
   "metadata": {},
   "outputs": [
    {
     "name": "stdout",
     "output_type": "stream",
     "text": [
      "1 4 7\n",
      "2 5 8\n",
      "3 6 9\n",
      "1\n",
      "2\n",
      "3\n",
      "4\n",
      "5\n",
      "6\n",
      "7\n",
      "8\n",
      "9\n"
     ]
    }
   ],
   "source": [
    "# 8. zip, chain\n",
    "from itertools import chain\n",
    "a = [[1, 2, 3], [4, 5, 6], [7, 8, 9]]\n",
    "for i, j, k in zip(*a): print(i, j, k)\n",
    "for i in chain(*a): print(i)"
   ]
  },
  {
   "cell_type": "code",
   "execution_count": 31,
   "metadata": {},
   "outputs": [
    {
     "name": "stdout",
     "output_type": "stream",
     "text": [
      "1 2 3 4\n",
      "['1', '2', '3', '4']\n",
      "<map object at 0xb2c5a5780> [1, 2, 3, 4]\n"
     ]
    }
   ],
   "source": [
    "# 9. map函数\n",
    "s = '1 2 3 4'\n",
    "print(s)\n",
    "print(s.split())\n",
    "a = map(lambda x: int(x), s.split())\n",
    "print(a, list(a))"
   ]
  },
  {
   "cell_type": "code",
   "execution_count": 35,
   "metadata": {},
   "outputs": [
    {
     "name": "stdout",
     "output_type": "stream",
     "text": [
      "1 2 5\n",
      "[0, 1, 2, 3, 4, 5, 6, 7, 8, 9] [1, 1, 1, 1, 0]\n"
     ]
    }
   ],
   "source": [
    "# 10. if else\n",
    "a = 1\n",
    "b = 2 if a > 1 else 2\n",
    "c = 3 if a > 1 else 4 if b < 2 else 5\n",
    "print(a, b, c)\n",
    "a = list(range(10))\n",
    "b = [0 if i > 3 else 1 for i in a if i < 5]\n",
    "print(a, b)"
   ]
  },
  {
   "cell_type": "code",
   "execution_count": 44,
   "metadata": {},
   "outputs": [
    {
     "name": "stdout",
     "output_type": "stream",
     "text": [
      "a: a b c\n",
      "b: a\n",
      "b\n",
      "c\n",
      "\n",
      "c: abc\n",
      "d: abc\n"
     ]
    }
   ],
   "source": [
    "# 11. 多行字符串\n",
    "a = \"a b \\\n",
    "c\"\n",
    "b = \"\"\"a\n",
    "b\n",
    "c\n",
    "\"\"\"\n",
    "c = \"a\" \\\n",
    "\"b\" \"c\"\n",
    "d = ('a'\n",
    "    'b'\n",
    "    'c')\n",
    "print('a:', a)\n",
    "print('b:', b)\n",
    "print('c:', c)\n",
    "print('d:', d)"
   ]
  },
  {
   "cell_type": "code",
   "execution_count": 40,
   "metadata": {},
   "outputs": [
    {
     "name": "stdout",
     "output_type": "stream",
     "text": [
      "a\n",
      "a\n"
     ]
    }
   ],
   "source": [
    "# 12. 用in简化if条件判断\n",
    "a = 1\n",
    "if a == 1 or a == 3 or a == 5:\n",
    "    print('a')\n",
    "# ==>\n",
    "if a in [1, 3, 5]:\n",
    "    print('a')"
   ]
  },
  {
   "cell_type": "code",
   "execution_count": 42,
   "metadata": {},
   "outputs": [
    {
     "name": "stdout",
     "output_type": "stream",
     "text": [
      "[(4, 4)]\n"
     ]
    }
   ],
   "source": [
    "# 13. O(n)找到出现次数list中出现次数最多的值\n",
    "a = [1, 2, 3, 4, 2, 2, 3, 1, 4, 4, 4]\n",
    "from collections import Counter\n",
    "print(Counter(a).most_common(1))"
   ]
  },
  {
   "cell_type": "code",
   "execution_count": 43,
   "metadata": {},
   "outputs": [
    {
     "name": "stdout",
     "output_type": "stream",
     "text": [
      "None 1\n",
      "None 1\n"
     ]
    }
   ],
   "source": [
    "# 14. or\n",
    "a = None\n",
    "if a is None:\n",
    "    b = 1\n",
    "else:\n",
    "    b = a\n",
    "print(a, b)\n",
    "# ==>\n",
    "b = a or 1\n",
    "print(a, b)"
   ]
  },
  {
   "cell_type": "markdown",
   "metadata": {},
   "source": [
    "## 参考\n",
    "- https://www.geeksforgeeks.org/10-essential-python-tips-tricks-programmers/\n",
    "- https://www.techbeamers.com/essential-python-tips-tricks-programmers/\n",
    "- https://www.codementor.io/@sumit12dec/python-tricks-for-beginners-du107t193"
   ]
  }
 ],
 "metadata": {
  "kernelspec": {
   "display_name": "Python 3",
   "language": "python",
   "name": "python3"
  },
  "language_info": {
   "codemirror_mode": {
    "name": "ipython",
    "version": 3
   },
   "file_extension": ".py",
   "mimetype": "text/x-python",
   "name": "python",
   "nbconvert_exporter": "python",
   "pygments_lexer": "ipython3",
   "version": "3.6.7"
  }
 },
 "nbformat": 4,
 "nbformat_minor": 2
}
