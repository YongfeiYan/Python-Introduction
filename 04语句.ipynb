{
 "cells": [
  {
   "cell_type": "markdown",
   "metadata": {},
   "source": [
    "## 条件语句\n",
    "```python\n",
    "if condition_1:\n",
    "    statement_1\n",
    "elif condition_2:\n",
    "    statement_2\n",
    "else:\n",
    "    statement_3\n",
    "```"
   ]
  },
  {
   "cell_type": "code",
   "execution_count": 2,
   "metadata": {},
   "outputs": [
    {
     "name": "stdout",
     "output_type": "stream",
     "text": [
      "2\n"
     ]
    }
   ],
   "source": [
    "a = 2\n",
    "if a < 1 or a > 3:\n",
    "    print('1')\n",
    "elif a > 1 and a < 3: \n",
    "    print('2')\n",
    "elif 1 < a < 3:\n",
    "    print('3')\n",
    "#else:\n",
    "#    print('4')\n",
    "\n",
    "## 比较运算符\n",
    "# > < >= <= == !=\n",
    "\n",
    "## 逻辑运算符\n",
    "# and or not "
   ]
  },
  {
   "cell_type": "markdown",
   "metadata": {},
   "source": [
    "## 循环语句\n",
    "while 语句\n",
    "```python\n",
    "while condition:\n",
    "    statements1\n",
    "else:\n",
    "    statements2 # 如果循环没有被break终止则执行\n",
    "```\n",
    "for 语句\n",
    "```python\n",
    "for var in sequence:\n",
    "    statements1\n",
    "else:\n",
    "    statements2 # 执行如果循环没有被break终止则执行\n",
    "```\n",
    "continue, break 语句的意义和C++一样"
   ]
  },
  {
   "cell_type": "code",
   "execution_count": 17,
   "metadata": {},
   "outputs": [
    {
     "name": "stdout",
     "output_type": "stream",
     "text": [
      "0\n",
      "1\n",
      "2\n"
     ]
    }
   ],
   "source": [
    "a = 0\n",
    "while a < 3:\n",
    "    print(a)\n",
    "    a += 1\n"
   ]
  },
  {
   "cell_type": "code",
   "execution_count": 18,
   "metadata": {},
   "outputs": [
    {
     "name": "stdout",
     "output_type": "stream",
     "text": [
      "1\n",
      "2\n",
      "break\n",
      "1\n",
      "3\n",
      "x\n"
     ]
    }
   ],
   "source": [
    "a = [1, 2]\n",
    "for i in a:\n",
    "    print(i)\n",
    "    if i == 2:\n",
    "        print('break')\n",
    "        break\n",
    "else:\n",
    "    print('x')\n",
    "a = [1, 3]\n",
    "for i in a:\n",
    "    print(i)\n",
    "    if i == 2:\n",
    "        print('break')\n",
    "        break\n",
    "else:\n",
    "    print('x')"
   ]
  },
  {
   "cell_type": "code",
   "execution_count": 21,
   "metadata": {
    "scrolled": true
   },
   "outputs": [
    {
     "name": "stdout",
     "output_type": "stream",
     "text": [
      "a\n",
      "b\n",
      "0\n",
      "1\n",
      "2\n",
      "-1\n",
      "2\n",
      "1 4\n",
      "2 5\n",
      "0 1\n",
      "1 2\n",
      "2 3\n"
     ]
    }
   ],
   "source": [
    "d = dict(a=1, b=2)\n",
    "for a in d.keys():\n",
    "    print(a)\n",
    "for i in range(3):\n",
    "    print(i)\n",
    "for i in range(-1, 5, 3):\n",
    "    print(i)\n",
    "a = [1, 2, 3]\n",
    "b = [4, 5]\n",
    "for ti, tj in zip(a, b):\n",
    "    print(ti, tj)\n",
    "for i, v in enumerate(a):\n",
    "    print(i, v)"
   ]
  },
  {
   "cell_type": "markdown",
   "metadata": {},
   "source": [
    "## 空语句\n",
    "关键字语句, 占位作用."
   ]
  },
  {
   "cell_type": "code",
   "execution_count": null,
   "metadata": {
    "collapsed": true
   },
   "outputs": [],
   "source": [
    "i = 2\n",
    "if i == 2:\n",
    "    pass"
   ]
  }
 ],
 "metadata": {
  "kernelspec": {
   "display_name": "Python 3",
   "language": "python",
   "name": "python3"
  },
  "language_info": {
   "codemirror_mode": {
    "name": "ipython",
    "version": 3
   },
   "file_extension": ".py",
   "mimetype": "text/x-python",
   "name": "python",
   "nbconvert_exporter": "python",
   "pygments_lexer": "ipython3",
   "version": "3.6.7"
  }
 },
 "nbformat": 4,
 "nbformat_minor": 2
}
