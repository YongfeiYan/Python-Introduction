{
 "cells": [
  {
   "cell_type": "markdown",
   "metadata": {},
   "source": [
    "## with语句"
   ]
  },
  {
   "cell_type": "code",
   "execution_count": 12,
   "metadata": {},
   "outputs": [
    {
     "name": "stdout",
     "output_type": "stream",
     "text": [
      "[\"print('Hello, world!')\"]\n",
      "[\"print('Hello, world!')\"]\n"
     ]
    }
   ],
   "source": [
    "filename = './01_sample_code.py'\n",
    "\n",
    "# 读写文件的例子\n",
    "file = open(filename)\n",
    "try:\n",
    "    data = file.readlines()\n",
    "    print(data)\n",
    "finally:  # 无论是否有异常发生, 都要执行的语句\n",
    "    file.close()\n",
    "\n",
    "\n",
    "# 使用with语句\n",
    "with open(filename) as f:\n",
    "    print(f.readlines())"
   ]
  },
  {
   "cell_type": "code",
   "execution_count": 13,
   "metadata": {},
   "outputs": [
    {
     "name": "stdout",
     "output_type": "stream",
     "text": [
      "enter called, do something.\n",
      "t: enter return.\n",
      "exit called, do somethind.\n"
     ]
    }
   ],
   "source": [
    "class T:\n",
    "    def __init__(self):\n",
    "        self.values = [1, 2, 3]\n",
    "\n",
    "    def __enter__(self):\n",
    "        print('enter called, do something.')\n",
    "        return 'enter return.'\n",
    "\n",
    "    def __exit__(self, type, value, trace):\n",
    "        print('exit called, do somethind.')\n",
    "\n",
    "\n",
    "with T() as t:\n",
    "    print('t:', t)"
   ]
  },
  {
   "cell_type": "code",
   "execution_count": null,
   "metadata": {
    "collapsed": true
   },
   "outputs": [],
   "source": []
  }
 ],
 "metadata": {
  "kernelspec": {
   "display_name": "Python 3",
   "language": "python",
   "name": "python3"
  },
  "language_info": {
   "codemirror_mode": {
    "name": "ipython",
    "version": 3
   },
   "file_extension": ".py",
   "mimetype": "text/x-python",
   "name": "python",
   "nbconvert_exporter": "python",
   "pygments_lexer": "ipython3",
   "version": "3.6.7"
  }
 },
 "nbformat": 4,
 "nbformat_minor": 2
}
