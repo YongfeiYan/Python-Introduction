{
 "cells": [
  {
   "cell_type": "markdown",
   "metadata": {},
   "source": [
    "## 变量"
   ]
  },
  {
   "cell_type": "code",
   "execution_count": 61,
   "metadata": {},
   "outputs": [
    {
     "name": "stdout",
     "output_type": "stream",
     "text": [
      "1 <class 'int'>\n",
      "a string <class 'str'>\n",
      "1 2\n"
     ]
    }
   ],
   "source": [
    "\"\"\"\n",
    "Python中, 不需要声明一个变量和其类型, 赋值的时候即创建了.\n",
    "\"\"\"\n",
    "a = 1  # 创建为变量a, 并赋值1, 不像C++, Python不需要指定a的类型\n",
    "print(a, type(a))  # 用type函数获取a的类型, 打印a和a的类型\n",
    "a = 'a string'  # 赋值a为一个字符串\n",
    "print(a, type(a))\n",
    "a, b = 1, 2  # 一次赋值两个变量\n",
    "print(a, b)\n",
    "\n",
    "\"\"\"\n",
    "变量命名约定:\n",
    "- 变量由字母数字下滑线组成\n",
    "- 第一个不能是数字, 否则, 不能区分变量和数字, 比如12.\n",
    "- _开头表示私有, 不对外开放, 比如 _var, 可以用于类的私有变量名\n",
    "- 以两个__开头和结尾, 表示是python保留的名称, 比如 __call__, __name__\n",
    "\"\"\" "
   ]
  },
  {
   "cell_type": "markdown",
   "metadata": {},
   "source": [
    "## Number"
   ]
  },
  {
   "cell_type": "code",
   "execution_count": 1,
   "metadata": {},
   "outputs": [
    {
     "name": "stdout",
     "output_type": "stream",
     "text": [
      "<class 'int'> <class 'float'> <class 'bool'> <class 'complex'>\n",
      "0.123 <class 'float'>\n"
     ]
    }
   ],
   "source": [
    "# Python3支持: int, float, bool, complex 四种类型\n",
    "a, b, c, d = 20, 5.5, True, 4+3j\n",
    "print(type(a), type(b), type(c), type(d))\n",
    "s = '0.123'\n",
    "f = float(s)  # 类型转换\n",
    "print(f, type(f))"
   ]
  },
  {
   "cell_type": "code",
   "execution_count": 3,
   "metadata": {},
   "outputs": [
    {
     "name": "stdout",
     "output_type": "stream",
     "text": [
      "9 1 1.25 1 1 8\n"
     ]
    }
   ],
   "source": [
    "# 基本数值操作\n",
    "\"\"\"\n",
    "+ 加法\n",
    "- 剑法\n",
    "* 乘法\n",
    "/ 除法, 结果为浮点数 5/2 == 2.5\n",
    "// 除法, 结果为整数, 5//2 == 2\n",
    "% 取余 \n",
    "** 乘方\n",
    "\"\"\" \n",
    "print(5 + 4, 5 - 4, 5 / 4, 5 // 4, 5 % 4, 2**3)"
   ]
  },
  {
   "cell_type": "markdown",
   "metadata": {},
   "source": [
    "## String"
   ]
  },
  {
   "cell_type": "code",
   "execution_count": 64,
   "metadata": {},
   "outputs": [
    {
     "name": "stdout",
     "output_type": "stream",
     "text": [
      "<class 'str'>\n",
      "string string\n",
      "string\t'\n",
      "string\\t\\'\n",
      "ab aaa\n"
     ]
    }
   ],
   "source": [
    "# 用单引号和双引号扩起来的都是字符串\n",
    "a = 'string'\n",
    "b = \"string\"\n",
    "print(type(a))\n",
    "print(a, b)\n",
    "a = 'string\\t\\''  # 用\\进行字符的转义\n",
    "print(a)\n",
    "b = r'string\\t\\''\n",
    "#使用r前缀, 得到转义前的字符串\n",
    "print(b)\n",
    "# 字符串运算,+表示链接, *表示重复\n",
    "print('a' + 'b', 'a' * 3)"
   ]
  },
  {
   "cell_type": "code",
   "execution_count": 65,
   "metadata": {},
   "outputs": [
    {
     "name": "stdout",
     "output_type": "stream",
     "text": [
      "string\t'\n"
     ]
    },
    {
     "ename": "TypeError",
     "evalue": "'str' object does not support item assignment",
     "output_type": "error",
     "traceback": [
      "\u001b[0;31m---------------------------------------------------------------------------\u001b[0m",
      "\u001b[0;31mTypeError\u001b[0m                                 Traceback (most recent call last)",
      "\u001b[0;32m<ipython-input-65-e1b75f06c4c1>\u001b[0m in \u001b[0;36m<module>\u001b[0;34m()\u001b[0m\n\u001b[1;32m      1\u001b[0m \u001b[0;31m# 字符串不能修改, 每次字符串的操作都创建一个新的字符串\u001b[0m\u001b[0;34m\u001b[0m\u001b[0;34m\u001b[0m\u001b[0;34m\u001b[0m\u001b[0m\n\u001b[1;32m      2\u001b[0m \u001b[0mprint\u001b[0m\u001b[0;34m(\u001b[0m\u001b[0ma\u001b[0m\u001b[0;34m)\u001b[0m\u001b[0;34m\u001b[0m\u001b[0;34m\u001b[0m\u001b[0m\n\u001b[0;32m----> 3\u001b[0;31m \u001b[0ma\u001b[0m\u001b[0;34m[\u001b[0m\u001b[0;36m0\u001b[0m\u001b[0;34m]\u001b[0m \u001b[0;34m=\u001b[0m \u001b[0;34m'b'\u001b[0m\u001b[0;34m\u001b[0m\u001b[0;34m\u001b[0m\u001b[0m\n\u001b[0m",
      "\u001b[0;31mTypeError\u001b[0m: 'str' object does not support item assignment"
     ]
    }
   ],
   "source": [
    "# 字符串不能修改, 每次字符串的操作都创建一个新的字符串\n",
    "print(a)\n",
    "a[0] = 'b'"
   ]
  },
  {
   "cell_type": "markdown",
   "metadata": {},
   "source": [
    "[格式化字符串](https://www.learnpython.org/en/String_Formatting)"
   ]
  },
  {
   "cell_type": "markdown",
   "metadata": {},
   "source": [
    "## List"
   ]
  },
  {
   "cell_type": "code",
   "execution_count": 66,
   "metadata": {},
   "outputs": [
    {
     "name": "stdout",
     "output_type": "stream",
     "text": [
      "[1, '3', False] <class 'list'>\n",
      "[]\n"
     ]
    }
   ],
   "source": [
    "# Python中的列表和C++中的数组类似, 但是里面的元素可以是任意对象\n",
    "a = [1, '3', False]\n",
    "print(a, type(a))\n",
    "b = []  # 空列表\n",
    "print(b)"
   ]
  },
  {
   "cell_type": "code",
   "execution_count": 67,
   "metadata": {},
   "outputs": [
    {
     "name": "stdout",
     "output_type": "stream",
     "text": [
      "[1, 1, 1] [1, 2]\n"
     ]
    }
   ],
   "source": [
    "print([1] * 3, [1] + [2])  # 列表的 * +"
   ]
  },
  {
   "cell_type": "code",
   "execution_count": 5,
   "metadata": {},
   "outputs": [
    {
     "name": "stdout",
     "output_type": "stream",
     "text": [
      "[0, 1, 2, 3, 4, 5, 6, 7, 8, 9]\n",
      "3\n",
      "[2, 3, 4]\n",
      "9\n",
      "[7, 8]\n",
      "[0, 1, 2, 3, 4, 5, 6, 7, 8]\n",
      "[1, 2, 3, 4, 5, 6, 7, 8, 9]\n",
      "[9, 8, 7, 6, 5, 4, 3, 2, 1, 0]\n",
      "[1, 4, 7]\n"
     ]
    }
   ],
   "source": [
    "# 列表的索引  格式 [begin:end:step]\n",
    "a = [0, 1, 2, 3, 4, 5, 6, 7, 8, 9]  # 创建一个长度为10的列表\n",
    "print(a)\n",
    "print(a[3])  # 列表的一个元素\n",
    "print(a[2:5])  # 子列表\n",
    "print(a[-1])  # -n 为倒数第n个元素, -1 表示最后一个元素\n",
    "print(a[-3:-1])\n",
    "print(a[:-1])\n",
    "print(a[1:])\n",
    "print(a[::-1])\n",
    "print(a[1:-1:3])"
   ]
  },
  {
   "cell_type": "code",
   "execution_count": 69,
   "metadata": {},
   "outputs": [
    {
     "name": "stdout",
     "output_type": "stream",
     "text": [
      "10\n",
      "[0, 1, 2, 3, 4, 5, 6, 7, 8, 9, 'a']\n",
      "[0, 1, 2, 3, 4, 5, 6, 7, 8, 9, 'a', 'b', 'c']\n"
     ]
    }
   ],
   "source": [
    "# 常用函数\n",
    "a = [0, 1, 2, 3, 4, 5, 6, 7, 8, 9]\n",
    "print(len(a))  # 长度\n",
    "a.append('a')  # 追加一个元素\n",
    "print(a)\n",
    "a.extend(['b', 'c'])  # 延长, 参数是list\n",
    "print(a)"
   ]
  },
  {
   "cell_type": "markdown",
   "metadata": {
    "collapsed": true
   },
   "source": [
    "## Tuple"
   ]
  },
  {
   "cell_type": "code",
   "execution_count": 70,
   "metadata": {},
   "outputs": [
    {
     "name": "stdout",
     "output_type": "stream",
     "text": [
      "() (1,) <class 'tuple'> <class 'tuple'>\n",
      "(1, '2', False, [1, 2])\n"
     ]
    },
    {
     "ename": "TypeError",
     "evalue": "'tuple' object does not support item assignment",
     "output_type": "error",
     "traceback": [
      "\u001b[0;31m---------------------------------------------------------------------------\u001b[0m",
      "\u001b[0;31mTypeError\u001b[0m                                 Traceback (most recent call last)",
      "\u001b[0;32m<ipython-input-70-473afcf1d689>\u001b[0m in \u001b[0;36m<module>\u001b[0;34m()\u001b[0m\n\u001b[1;32m      6\u001b[0m \u001b[0ma\u001b[0m\u001b[0;34m[\u001b[0m\u001b[0;34m-\u001b[0m\u001b[0;36m1\u001b[0m\u001b[0;34m]\u001b[0m\u001b[0;34m.\u001b[0m\u001b[0mappend\u001b[0m\u001b[0;34m(\u001b[0m\u001b[0;36m2\u001b[0m\u001b[0;34m)\u001b[0m  \u001b[0;31m# 允许\u001b[0m\u001b[0;34m\u001b[0m\u001b[0;34m\u001b[0m\u001b[0m\n\u001b[1;32m      7\u001b[0m \u001b[0mprint\u001b[0m\u001b[0;34m(\u001b[0m\u001b[0ma\u001b[0m\u001b[0;34m)\u001b[0m\u001b[0;34m\u001b[0m\u001b[0;34m\u001b[0m\u001b[0m\n\u001b[0;32m----> 8\u001b[0;31m \u001b[0ma\u001b[0m\u001b[0;34m[\u001b[0m\u001b[0;36m0\u001b[0m\u001b[0;34m]\u001b[0m \u001b[0;34m=\u001b[0m \u001b[0;36m2\u001b[0m  \u001b[0;31m# 不允许!\u001b[0m\u001b[0;34m\u001b[0m\u001b[0;34m\u001b[0m\u001b[0m\n\u001b[0m",
      "\u001b[0;31mTypeError\u001b[0m: 'tuple' object does not support item assignment"
     ]
    }
   ],
   "source": [
    "# 元组和list类似, 但是不支持对其中元素的赋值\n",
    "a = ()  # 空元组\n",
    "b = (1,)  # 1个元素的元组\n",
    "print(a, b, type(a), type(b))\n",
    "a = (1, '2', False, [1])\n",
    "a[-1].append(2)  # 允许\n",
    "print(a)\n",
    "a[0] = 2  # 不允许!"
   ]
  },
  {
   "cell_type": "code",
   "execution_count": 71,
   "metadata": {},
   "outputs": [
    {
     "name": "stdout",
     "output_type": "stream",
     "text": [
      "(0, 1, 2, 3, 4, 5, 6, 7, 8, 9)\n",
      "3\n",
      "(2, 3, 4)\n",
      "9\n",
      "(7, 8)\n",
      "('a', 'b') ccc ('c', 'c', 'c')\n"
     ]
    }
   ],
   "source": [
    "# 索引\n",
    "a = (0, 1, 2, 3, 4, 5, 6, 7, 8, 9)  # 创建一个长度为10的列表\n",
    "print(a)\n",
    "print(a[3])  # 列表的一个元素\n",
    "print(a[2:5])  # 子列表\n",
    "print(a[-1])  # -n 为倒数第n个元素, -1 表示最后一个元素\n",
    "print(a[-3:-1])\n",
    "\n",
    "# + 和 *\n",
    "print(('a',) + ('b',), ('c') * 3, ('c',) * 3)  "
   ]
  },
  {
   "cell_type": "markdown",
   "metadata": {},
   "source": [
    "## Set"
   ]
  },
  {
   "cell_type": "code",
   "execution_count": 72,
   "metadata": {},
   "outputs": [
    {
     "name": "stdout",
     "output_type": "stream",
     "text": [
      "set() {1, 3, '2'} {1, '2', 4} <class 'set'>\n"
     ]
    }
   ],
   "source": [
    "# set表示元素的集合, 构建的时候去除了重复元素\n",
    "a = set()  # 空集合\n",
    "b = set([1, 1, '2', 3])  # 给定参数构造\n",
    "c = {1, 1, '2', 4}  # 用 {} 构造\n",
    "print(a, b, c, type(a))"
   ]
  },
  {
   "cell_type": "code",
   "execution_count": 73,
   "metadata": {},
   "outputs": [
    {
     "name": "stdout",
     "output_type": "stream",
     "text": [
      "{3}\n",
      "{1, '2'}\n",
      "{1, 3, 4, '2'}\n",
      "{3, 4}\n",
      "False True\n"
     ]
    }
   ],
   "source": [
    "print(b - c)  # 差\n",
    "print(b & c)  # 交集\n",
    "print( b | c)  # 并集\n",
    "print(b ^ c)  # 对称差\n",
    "print('x' in b, 'x' not in b)  # 查询"
   ]
  },
  {
   "cell_type": "markdown",
   "metadata": {},
   "source": [
    "## Dict"
   ]
  },
  {
   "cell_type": "code",
   "execution_count": 74,
   "metadata": {},
   "outputs": [
    {
     "name": "stdout",
     "output_type": "stream",
     "text": [
      "{} {'a': 1, 'b': 2, 2: 'b'} {1: 2, 3: 4} {'a': 1, 'b': 2}\n"
     ]
    }
   ],
   "source": [
    "# 字典, 类似C++里面的map\n",
    "a = {}  # 空字典\n",
    "b = {'a': 1, 'b': 2, 2: 'b'}  # 从键值对创建\n",
    "c = dict([(1, 2), (3, 4)])  # 用dict创建, 参数为list\n",
    "d = dict(a=1, b=2)  # 用dict创建\n",
    "print(a, b, c, d)"
   ]
  },
  {
   "cell_type": "code",
   "execution_count": 75,
   "metadata": {},
   "outputs": [
    {
     "name": "stdout",
     "output_type": "stream",
     "text": [
      "1 True False\n",
      "{'a': 1, 'b': 2, 2: 'b', 'd': True}\n",
      "{'a': 1, 'b': 2, 2: 'b'}\n"
     ]
    }
   ],
   "source": [
    "print(b['a'], 'a' in b, 'a' not in b)  # 查询\n",
    "b['d'] = True  # 不存在的元素直接赋值\n",
    "print(b)\n",
    "b.pop('d')  # 删除元素\n",
    "print(b)"
   ]
  },
  {
   "cell_type": "code",
   "execution_count": 76,
   "metadata": {},
   "outputs": [
    {
     "name": "stdout",
     "output_type": "stream",
     "text": [
      "['a', 'b', 2]\n",
      "[1, 2, 'b']\n",
      "[('a', 1), ('b', 2), (2, 'b')]\n"
     ]
    }
   ],
   "source": [
    "print(list(b.keys()), list(b.values()), list(b.items()), sep='\\n')"
   ]
  },
  {
   "cell_type": "code",
   "execution_count": 78,
   "metadata": {},
   "outputs": [
    {
     "ename": "TypeError",
     "evalue": "unhashable type: 'list'",
     "output_type": "error",
     "traceback": [
      "\u001b[0;31m---------------------------------------------------------------------------\u001b[0m",
      "\u001b[0;31mTypeError\u001b[0m                                 Traceback (most recent call last)",
      "\u001b[0;32m<ipython-input-78-e0f84f52f7c2>\u001b[0m in \u001b[0;36m<module>\u001b[0;34m()\u001b[0m\n\u001b[1;32m      1\u001b[0m \u001b[0;31m# 可变元素不能作为key, 比如 [], {}\u001b[0m\u001b[0;34m\u001b[0m\u001b[0;34m\u001b[0m\u001b[0;34m\u001b[0m\u001b[0m\n\u001b[0;32m----> 2\u001b[0;31m \u001b[0mb\u001b[0m\u001b[0;34m[\u001b[0m\u001b[0;34m[\u001b[0m\u001b[0;36m1\u001b[0m\u001b[0;34m]\u001b[0m\u001b[0;34m]\u001b[0m \u001b[0;34m=\u001b[0m \u001b[0;36m2\u001b[0m\u001b[0;34m\u001b[0m\u001b[0;34m\u001b[0m\u001b[0m\n\u001b[0m",
      "\u001b[0;31mTypeError\u001b[0m: unhashable type: 'list'"
     ]
    }
   ],
   "source": [
    "# 可变元素不能作为key, 比如 [], {}\n",
    "b[[1]] = 2"
   ]
  }
 ],
 "metadata": {
  "kernelspec": {
   "display_name": "Python 3",
   "language": "python",
   "name": "python3"
  },
  "language_info": {
   "codemirror_mode": {
    "name": "ipython",
    "version": 3
   },
   "file_extension": ".py",
   "mimetype": "text/x-python",
   "name": "python",
   "nbconvert_exporter": "python",
   "pygments_lexer": "ipython3",
   "version": "3.6.7"
  }
 },
 "nbformat": 4,
 "nbformat_minor": 2
}
