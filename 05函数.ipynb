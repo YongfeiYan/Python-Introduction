{
 "cells": [
  {
   "cell_type": "markdown",
   "metadata": {},
   "source": [
    "## 函数\n",
    "```python\n",
    "def func_name(无默认值的参数, 有默认值的参数列表):  # 定义格式\n",
    "    statements\n",
    "func_name(位置参数, 关键字参数)  # 调用格式\n",
    "```"
   ]
  },
  {
   "cell_type": "code",
   "execution_count": 38,
   "metadata": {},
   "outputs": [
    {
     "name": "stdout",
     "output_type": "stream",
     "text": [
      "Args: a = 1 , b = 2 , c = 1\n",
      "Args: a = 1 , b = 2 , c = 3\n",
      "4 6\n",
      "Args: a = 1 , b = 2 , c = 1\n",
      "Args: a = 1 , b = 2 , c = 2\n",
      "4 5\n",
      "Args: a = 1 , b = 2 , c = 1\n",
      "4\n"
     ]
    }
   ],
   "source": [
    "def foo1(a, b, c=1):  # c的默认值为1, 具有默认值的参数要在没有默认值的参数后面\n",
    "    print('Args: a =', a, ', b =', b, ', c =', c)\n",
    "    return a + b + c\n",
    "print(foo1(1, 2), foo1(1, 2, 3))  # 位置参数, 按位置顺序给参数赋值\n",
    "print(foo1(b=2, a=1), foo1(a=1, c=2, b=2))  # 关键字参数, 调用时根据关键字给参数赋值\n",
    "print(foo1(1, b=2))  # 位置参数要放在关键字参数前面! "
   ]
  },
  {
   "cell_type": "code",
   "execution_count": 39,
   "metadata": {},
   "outputs": [
    {
     "name": "stdout",
     "output_type": "stream",
     "text": [
      "(1, 2)\n",
      "1 2\n"
     ]
    }
   ],
   "source": [
    "def foo2(a, b):\n",
    "    return a, b   # 多个返回值以元组形式返回\n",
    "print(foo2(1, 2))\n",
    "c, d = foo2(1, 2)  # 分别赋值给c, d\n",
    "print(c, d)"
   ]
  },
  {
   "cell_type": "code",
   "execution_count": 40,
   "metadata": {},
   "outputs": [
    {
     "name": "stdout",
     "output_type": "stream",
     "text": [
      "<class 'tuple'> (2, 3, 4)\n",
      "<class 'dict'> {}\n",
      "a = 1 b = 1\n",
      "None\n",
      "<class 'tuple'> ()\n",
      "<class 'dict'> {'f': 1}\n",
      "a = 1 b = 2\n",
      "None\n",
      "<class 'tuple'> (2, 3)\n",
      "<class 'dict'> {'d': 1, 'e': 2}\n",
      "a = 1 b = 1\n",
      "None\n"
     ]
    }
   ],
   "source": [
    "def foo3(a, *atuple, b=1, **adict):  # 可变参数, 调用时, 多余的位置参数以tuple存储, 多余的关键字参数以dict存储\n",
    "    print(type(atuple), atuple)\n",
    "    print(type(adict), adict)\n",
    "    print('a =', a, 'b =', b)\n",
    "\n",
    "print(foo3(1, 2, 3, 4))  \n",
    "print(foo3(1, b=2, f=1))\n",
    "print(foo3(1, 2, 3, d=1, e=2))"
   ]
  },
  {
   "cell_type": "code",
   "execution_count": 41,
   "metadata": {},
   "outputs": [
    {
     "name": "stdout",
     "output_type": "stream",
     "text": [
      "3 2\n",
      "None\n"
     ]
    }
   ],
   "source": [
    "# 如果一个变量在函数内部只引用并未进行赋值, 则这个变量是外部变量, 否则是内部变量.\n",
    "\n",
    "a = 1  # 全局变量a\n",
    "b = 2  # 全局变量a\n",
    "def foo4():\n",
    "    a = 3  # 局部变量a\n",
    "    print(a, b)\n",
    "\n",
    "print(foo4())"
   ]
  },
  {
   "cell_type": "code",
   "execution_count": 42,
   "metadata": {},
   "outputs": [
    {
     "ename": "UnboundLocalError",
     "evalue": "local variable 'c' referenced before assignment",
     "output_type": "error",
     "traceback": [
      "\u001b[0;31m---------------------------------------------------------------------------\u001b[0m",
      "\u001b[0;31mUnboundLocalError\u001b[0m                         Traceback (most recent call last)",
      "\u001b[0;32m<ipython-input-42-182dad8af6cd>\u001b[0m in \u001b[0;36m<module>\u001b[0;34m()\u001b[0m\n\u001b[1;32m      3\u001b[0m     \u001b[0mprint\u001b[0m\u001b[0;34m(\u001b[0m\u001b[0mc\u001b[0m\u001b[0;34m)\u001b[0m\u001b[0;34m\u001b[0m\u001b[0;34m\u001b[0m\u001b[0m\n\u001b[1;32m      4\u001b[0m     \u001b[0mc\u001b[0m \u001b[0;34m=\u001b[0m \u001b[0;36m1\u001b[0m    \u001b[0;31m# c是局部变量, 上面的print语句引用一个未赋值的局部变量\u001b[0m\u001b[0;34m\u001b[0m\u001b[0;34m\u001b[0m\u001b[0m\n\u001b[0;32m----> 5\u001b[0;31m \u001b[0mfoo5\u001b[0m\u001b[0;34m(\u001b[0m\u001b[0;34m)\u001b[0m\u001b[0;34m\u001b[0m\u001b[0;34m\u001b[0m\u001b[0m\n\u001b[0m",
      "\u001b[0;32m<ipython-input-42-182dad8af6cd>\u001b[0m in \u001b[0;36mfoo5\u001b[0;34m()\u001b[0m\n\u001b[1;32m      1\u001b[0m \u001b[0mc\u001b[0m \u001b[0;34m=\u001b[0m \u001b[0;36m2\u001b[0m\u001b[0;34m\u001b[0m\u001b[0;34m\u001b[0m\u001b[0m\n\u001b[1;32m      2\u001b[0m \u001b[0;32mdef\u001b[0m \u001b[0mfoo5\u001b[0m\u001b[0;34m(\u001b[0m\u001b[0;34m)\u001b[0m\u001b[0;34m:\u001b[0m\u001b[0;34m\u001b[0m\u001b[0;34m\u001b[0m\u001b[0m\n\u001b[0;32m----> 3\u001b[0;31m     \u001b[0mprint\u001b[0m\u001b[0;34m(\u001b[0m\u001b[0mc\u001b[0m\u001b[0;34m)\u001b[0m\u001b[0;34m\u001b[0m\u001b[0;34m\u001b[0m\u001b[0m\n\u001b[0m\u001b[1;32m      4\u001b[0m     \u001b[0mc\u001b[0m \u001b[0;34m=\u001b[0m \u001b[0;36m1\u001b[0m    \u001b[0;31m# c是局部变量, 上面的print语句引用一个未赋值的局部变量\u001b[0m\u001b[0;34m\u001b[0m\u001b[0;34m\u001b[0m\u001b[0m\n\u001b[1;32m      5\u001b[0m \u001b[0mfoo5\u001b[0m\u001b[0;34m(\u001b[0m\u001b[0;34m)\u001b[0m\u001b[0;34m\u001b[0m\u001b[0;34m\u001b[0m\u001b[0m\n",
      "\u001b[0;31mUnboundLocalError\u001b[0m: local variable 'c' referenced before assignment"
     ]
    }
   ],
   "source": [
    "c = 2\n",
    "def foo5():\n",
    "    print(c)\n",
    "    c = 1    # c是局部变量, 上面的print语句引用一个未赋值的局部变量\n",
    "foo5()"
   ]
  },
  {
   "cell_type": "code",
   "execution_count": 3,
   "metadata": {},
   "outputs": [
    {
     "name": "stdout",
     "output_type": "stream",
     "text": [
      "2\n"
     ]
    }
   ],
   "source": [
    "a = 1\n",
    "def foo():\n",
    "    global a  # 声明使用外部变量\n",
    "    a = 2\n",
    "foo()\n",
    "print(a)"
   ]
  },
  {
   "cell_type": "code",
   "execution_count": 2,
   "metadata": {},
   "outputs": [
    {
     "name": "stdout",
     "output_type": "stream",
     "text": [
      "1 2 3\n",
      "1 2 3\n",
      "1 2 3\n"
     ]
    }
   ],
   "source": [
    "# 将数组和dict拆开成参数传递给函数\n",
    "def foo(x, y, z):\n",
    "    print(x, y, z)\n",
    "a = [1, 2, 3]\n",
    "b = {'x': 1, 'y': 2, 'z': 3}\n",
    "foo(*a)\n",
    "foo(**b)\n",
    "a = [1, 2]\n",
    "b = {'z': 3}\n",
    "foo(*a, **b)"
   ]
  },
  {
   "cell_type": "code",
   "execution_count": null,
   "metadata": {
    "collapsed": true
   },
   "outputs": [],
   "source": []
  }
 ],
 "metadata": {
  "kernelspec": {
   "display_name": "Python 3",
   "language": "python",
   "name": "python3"
  },
  "language_info": {
   "codemirror_mode": {
    "name": "ipython",
    "version": 3
   },
   "file_extension": ".py",
   "mimetype": "text/x-python",
   "name": "python",
   "nbconvert_exporter": "python",
   "pygments_lexer": "ipython3",
   "version": "3.6.7"
  }
 },
 "nbformat": 4,
 "nbformat_minor": 2
}
