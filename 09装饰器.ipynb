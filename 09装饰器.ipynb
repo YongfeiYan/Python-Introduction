{
 "cells": [
  {
   "cell_type": "markdown",
   "metadata": {
    "collapsed": true
   },
   "source": [
    "## 装饰器"
   ]
  },
  {
   "cell_type": "code",
   "execution_count": 3,
   "metadata": {},
   "outputs": [
    {
     "name": "stdout",
     "output_type": "stream",
     "text": [
      "Sleep 0.2883892013168762 second\n",
      "In foo: 1\n",
      "End\n"
     ]
    }
   ],
   "source": [
    "import time\n",
    "from random import random\n",
    "\n",
    "def sleep_random(func):\n",
    "    \"\"\"调用函数前随机sleep 0~1秒.\"\"\"\n",
    "    def wrapper(*args, **kwargs):  # 将func包装起来\n",
    "        t = random()\n",
    "        print('Sleep', t, 'second')\n",
    "        time.sleep(t)\n",
    "        r = func(*args, **kwargs)\n",
    "        print('End')\n",
    "        return r\n",
    "    return wrapper\n",
    "\n",
    "\n",
    "@sleep_random\n",
    "def foo(a):\n",
    "    print('In foo:', a)\n",
    "\"\"\"上面等价于\n",
    "def foo(a):\n",
    "    print('In foo:', a)\n",
    "foo = sleep_random(foo)\n",
    "\"\"\"\n",
    "\n",
    "foo(1)"
   ]
  },
  {
   "cell_type": "markdown",
   "metadata": {},
   "source": [
    "#### 资源\n",
    "[Python装饰器教程](https://realpython.com/primer-on-python-decorators/)"
   ]
  },
  {
   "cell_type": "code",
   "execution_count": null,
   "metadata": {
    "collapsed": true
   },
   "outputs": [],
   "source": []
  }
 ],
 "metadata": {
  "kernelspec": {
   "display_name": "Python 3",
   "language": "python",
   "name": "python3"
  },
  "language_info": {
   "codemirror_mode": {
    "name": "ipython",
    "version": 3
   },
   "file_extension": ".py",
   "mimetype": "text/x-python",
   "name": "python",
   "nbconvert_exporter": "python",
   "pygments_lexer": "ipython3",
   "version": "3.6.7"
  }
 },
 "nbformat": 4,
 "nbformat_minor": 2
}
