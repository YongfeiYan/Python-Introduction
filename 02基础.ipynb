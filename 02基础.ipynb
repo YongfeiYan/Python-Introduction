{
 "cells": [
  {
   "cell_type": "markdown",
   "metadata": {},
   "source": [
    "## 文件编码, 位于第一行, 指定编码为utf-8"
   ]
  },
  {
   "cell_type": "code",
   "execution_count": 4,
   "metadata": {
    "collapsed": true,
    "scrolled": true
   },
   "outputs": [],
   "source": [
    "#! coding: utf-8"
   ]
  },
  {
   "cell_type": "markdown",
   "metadata": {},
   "source": [
    "## 注释"
   ]
  },
  {
   "cell_type": "code",
   "execution_count": 5,
   "metadata": {},
   "outputs": [
    {
     "name": "stdout",
     "output_type": "stream",
     "text": [
      "Hello, world!\n"
     ]
    }
   ],
   "source": [
    "\"\"\"\n",
    "多行注释, 使用三个双引号\n",
    "三个引号里面的都是注释\n",
    "\"\"\"\n",
    "\n",
    "'''\n",
    "多行注释, 使用三个单引号\n",
    "'''\n",
    "# 单行注释\n",
    "print('Hello, world!')  # 单行注释, 井号 以后的都是注释"
   ]
  },
  {
   "cell_type": "markdown",
   "metadata": {},
   "source": [
    "## 导入包"
   ]
  },
  {
   "cell_type": "code",
   "execution_count": 2,
   "metadata": {},
   "outputs": [
    {
     "name": "stdout",
     "output_type": "stream",
     "text": [
      "1582033563.049929\n",
      "1582033563.050745\n",
      "1582033563.0508668\n",
      "1582033563.051195\n"
     ]
    }
   ],
   "source": [
    "import time  # 导入包 time, 之后可以使用里面的函数, 比如\n",
    "print(time.time())  # time.time() 调用time包里到time函数, 返回当前时间, 为浮点数\n",
    "\n",
    "import time as other_name  # 导入包time, 并且用other_name表示, 这样如果太长就可以使用了\n",
    "print(other_name.time())\n",
    "\n",
    "from time import time  # 从time包导入time函数, 这样直接可以使用time函数\n",
    "print(time())\n",
    "\n",
    "from time import *  # 导入time包的所有内容\n",
    "print(time())"
   ]
  },
  {
   "cell_type": "markdown",
   "metadata": {},
   "source": [
    "## 缩进\n",
    "Python用缩进表示命名空间, 一般是4个空格, Tab, 2个空格等等, 程序中__缩进要一致__, 如果用4个空格都要用四个空格."
   ]
  },
  {
   "cell_type": "code",
   "execution_count": 3,
   "metadata": {
    "scrolled": true
   },
   "outputs": [
    {
     "name": "stdout",
     "output_type": "stream",
     "text": [
      "a\n"
     ]
    }
   ],
   "source": [
    "def foo():\n",
    "            print('a')\n",
    "foo()"
   ]
  },
  {
   "cell_type": "code",
   "execution_count": null,
   "metadata": {
    "collapsed": true
   },
   "outputs": [],
   "source": []
  }
 ],
 "metadata": {
  "kernelspec": {
   "display_name": "Python 3",
   "language": "python",
   "name": "python3"
  },
  "language_info": {
   "codemirror_mode": {
    "name": "ipython",
    "version": 3
   },
   "file_extension": ".py",
   "mimetype": "text/x-python",
   "name": "python",
   "nbconvert_exporter": "python",
   "pygments_lexer": "ipython3",
   "version": "3.6.7"
  }
 },
 "nbformat": 4,
 "nbformat_minor": 2
}
