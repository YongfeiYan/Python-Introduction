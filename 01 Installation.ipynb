{
 "cells": [
  {
   "cell_type": "markdown",
   "metadata": {},
   "source": [
    "## 安装Python\n",
    "1. [通过Anaconda安装Python](https://blog.csdn.net/feifei3211/article/details/104261710)\n",
    "2. 上述为Windows系统的安装步骤, 如果是MaxOS或者Linux, 流程相似, 先安装Anaconda3, 完成后, 在终端里使用conda和Python.\n"
   ]
  },
  {
   "cell_type": "markdown",
   "metadata": {},
   "source": [
    "## 执行Python文件\n",
    "假如Python代码文件为01_sample_code.py, 打开终端, 切换到当前目录, 输入如下:\n",
    "```bash\n",
    "python 01_sample_code.py\n",
    "```\n",
    "如果是Pycharm, 配置好Python环境后, 点击__运行__菜单里的__运行按钮__即可."
   ]
  },
  {
   "cell_type": "markdown",
   "metadata": {},
   "source": [
    "## 安装Tensorflow\n",
    "首先, 添加清华源, 这样在下载包的时候速度会很快, 打开终端, 输入如下:\n",
    "```bash\n",
    "conda config --add channels https://mirrors.tuna.tsinghua.edu.cn/anaconda/pkgs/free/\n",
    "conda config --add channels https://mirrors.tuna.tsinghua.edu.cn/anaconda/pkgs/main/\n",
    "conda config --add channels https://mirrors.tuna.tsinghua.edu.cn/anaconda/cloud/conda-forge/\n",
    "conda config --add channels https://mirrors.tuna.tsinghua.edu.cn/anaconda/cloud/pytorch/\n",
    "conda config --add channels https://mirrors.tuna.tsinghua.edu.cn/anaconda/pkgs/pro/\n",
    "```\n",
    "接下来, 安装Tensorflow, 输入如下:\n",
    "```bash\n",
    "conda install tensorflow\n",
    "```\n",
    "选择__y__等待安装完成即可.\n"
   ]
  },
  {
   "cell_type": "markdown",
   "metadata": {},
   "source": [
    "## 参考资源\n",
    "- 上面安装的Tensorflow是CPU版本的, 如果自己的主机有GPU, 可以先安装CUDA, 然后[安装GPU版本的Tensorflow](https://blog.csdn.net/feifei3211/article/details/88367721)\n"
   ]
  }
 ],
 "metadata": {
  "kernelspec": {
   "display_name": "Python 3",
   "language": "python",
   "name": "python3"
  },
  "language_info": {
   "codemirror_mode": {
    "name": "ipython",
    "version": 3
   },
   "file_extension": ".py",
   "mimetype": "text/x-python",
   "name": "python",
   "nbconvert_exporter": "python",
   "pygments_lexer": "ipython3",
   "version": "3.6.7"
  }
 },
 "nbformat": 4,
 "nbformat_minor": 2
}
