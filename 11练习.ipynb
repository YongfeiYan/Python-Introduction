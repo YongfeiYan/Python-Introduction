{
 "cells": [
  {
   "cell_type": "markdown",
   "metadata": {},
   "source": [
    "## 练习"
   ]
  },
  {
   "cell_type": "code",
   "execution_count": 12,
   "metadata": {},
   "outputs": [
    {
     "data": {
      "text/plain": [
       "True"
      ]
     },
     "execution_count": 12,
     "metadata": {},
     "output_type": "execute_result"
    }
   ],
   "source": [
    "# 1. 判断一个字符串s是否是回文串\n",
    "def palindrome(string):\n",
    "    return ___\n",
    "\n",
    "assert palindrome('abcdcba'), 'Error!'\n",
    "\n",
    "\n",
    "# 2. 将列表中元素去重\n",
    "def unique_elemenets(alist):\n",
    "    return ___\n",
    "\n",
    "a = [1, 2, 3, 3, 4, 4]\n",
    "assert unique_elemenets(a) == [1, 2, 3, 4], 'Error! ' + str(unique_elemenets(a))\n",
    "\n",
    "# 3. 得到二维列表(M x N)的转置\n",
    "def transpose(mat):\n",
    "    return ___\n",
    "\n",
    "mat = [[1, 2, 3], [4, 5, 6]]\n",
    "assert transpose(mat) == [[1,4],[2,5],[3,6]], 'Error! ' + str(transpose(mat))\n",
    "\n",
    "\n",
    "# 4. 求dict中满足指定条件key对应的value的和\n",
    "def sum_of_values(dict_, cond):\n",
    "    return ___\n",
    "\n",
    "d = dict(zip(range(10),range(10)))\n",
    "assert sum_of_values(d, lambda x: x < 3) == 3\n",
    "\n",
    "\n",
    "# 5. 将二维嵌套列表每个元素乘2\n",
    "def multiply2(alist):\n",
    "    return ___\n",
    "\n",
    "assert multiply2([[1, 2], [3, 4]]) == [[2, 4], [6, 8]]\n",
    "\n",
    "\n",
    "# 6. 下面值是否是True\n",
    "4. / 2 == 4 // 2\n",
    "\n",
    "\n",
    "# 7. global一句注释掉, 下面函数为什么报错\n",
    "a = 1\n",
    "def foo():\n",
    "    # global a\n",
    "    b = a + 1\n",
    "    a = 2\n",
    "    return a + b\n",
    "\n",
    "\n",
    "# 8. 下面a的类型是什么? b的类型是什么? b == a?\n",
    "a = 0\n",
    "b = a or 0\n",
    "b == a \n",
    "\n",
    "\n",
    "# 9. 迭代器和生成器的区别?\n",
    "# 10. 用with语句读写文件, with中的代码执行时出现了异常, 打开的文件会关闭吗?"
   ]
  },
  {
   "cell_type": "markdown",
   "metadata": {},
   "source": [
    "## 参考答案"
   ]
  },
  {
   "cell_type": "code",
   "execution_count": 12,
   "metadata": {},
   "outputs": [
    {
     "data": {
      "text/plain": [
       "True"
      ]
     },
     "execution_count": 12,
     "metadata": {},
     "output_type": "execute_result"
    }
   ],
   "source": [
    "# 1. 判断一个字符串s是否是回文串\n",
    "def palindrome(string):\n",
    "    return string == string[::-1]\n",
    "\n",
    "assert palindrome('abcdcba'), 'Error!'\n",
    "\n",
    "\n",
    "# 2. 将列表中元素去重\n",
    "def unique_elemenets(alist):\n",
    "    return list(set(alist))\n",
    "\n",
    "a = [1, 2, 3, 3, 4, 4]\n",
    "assert unique_elemenets(a) == [1, 2, 3, 4], 'Error! ' + str(unique_elemenets(a))\n",
    "\n",
    "# 3. 得到二维列表(M x N)的转置\n",
    "def transpose(mat):\n",
    "    return list(map(list, zip(*mat)))\n",
    "\n",
    "mat = [[1, 2, 3], [4, 5, 6]]\n",
    "assert transpose(mat) == [[1,4],[2,5],[3,6]], 'Error! ' + str(transpose(mat))\n",
    "\n",
    "\n",
    "# 4. 求dict中满足指定条件key对应的value的和\n",
    "def sum_of_values(dict_, cond):\n",
    "    return sum(v for k, v in dict_.items() if cond(k))\n",
    "\n",
    "d = dict(zip(range(10),range(10)))\n",
    "assert sum_of_values(d, lambda x: x < 3) == 3\n",
    "\n",
    "\n",
    "# 5. 将二维嵌套列表每个元素乘2\n",
    "def multiply2(alist):\n",
    "    return [[2 * y for y in x] for x in alist]\n",
    "\n",
    "assert multiply2([[1, 2], [3, 4]]) == [[2, 4], [6, 8]]\n",
    "\n",
    "\n",
    "# 6. 下面值是否是True\n",
    "4. / 2 == 4 // 2\n",
    "\n",
    "\n",
    "# 7. global一句注释掉, 下面函数为什么报错\n",
    "a = 1\n",
    "def foo():\n",
    "    # global a\n",
    "    b = a + 1\n",
    "    a = 2\n",
    "    return a + b\n",
    "\n",
    "\n",
    "# 8. 下面b == a, 是否得到True?\n",
    "a = 0\n",
    "b = a or 0\n",
    "b == a \n",
    "\n",
    "\n",
    "# 9. 迭代器和生成器的区别?\n",
    "# 10. 用with语句读写文件, with中的代码执行时出现了异常, 打开的文件会关闭吗?"
   ]
  },
  {
   "cell_type": "code",
   "execution_count": null,
   "metadata": {
    "collapsed": true
   },
   "outputs": [],
   "source": []
  }
 ],
 "metadata": {
  "kernelspec": {
   "display_name": "Python 3",
   "language": "python",
   "name": "python3"
  },
  "language_info": {
   "codemirror_mode": {
    "name": "ipython",
    "version": 3
   },
   "file_extension": ".py",
   "mimetype": "text/x-python",
   "name": "python",
   "nbconvert_exporter": "python",
   "pygments_lexer": "ipython3",
   "version": "3.6.7"
  }
 },
 "nbformat": 4,
 "nbformat_minor": 2
}
